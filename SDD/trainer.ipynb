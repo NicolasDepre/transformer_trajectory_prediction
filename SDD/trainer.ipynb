{
 "cells": [
  {
   "cell_type": "code",
   "execution_count": null,
   "metadata": {
    "collapsed": true
   },
   "outputs": [],
   "source": [
    "\n",
    "\n"
   ]
  },
  {
   "cell_type": "code",
   "execution_count": 3,
   "metadata": {
    "pycharm": {
     "name": "#%%\n"
    }
   },
   "outputs": [],
   "source": [
    "import torch\n",
    "import torch.nn.functional as F\n",
    "from torch import nn\n",
    "\n",
    "from einops import rearrange\n",
    "from einops.layers.torch import Rearrange\n",
    "\n",
    "from traj_dataset import TrajDataset\n",
    "from torch.utils.data import DataLoader\n",
    "from torch.optim import Adam, SGD, Adagrad\n",
    "from torch.nn import MSELoss\n",
    "import matplotlib.pyplot as plt\n",
    "from torch.utils.data import random_split, DataLoader\n",
    "\n",
    "from model import SimpleViT\n",
    "\n",
    "\n",
    "\n",
    "\n",
    "\n",
    "\n",
    "\n",
    "\n",
    "\n",
    "\n",
    "\n"
   ]
  },
  {
   "cell_type": "code",
   "execution_count": 4,
   "metadata": {
    "pycharm": {
     "name": "#%%\n"
    }
   },
   "outputs": [
    {
     "name": "stdout",
     "output_type": "stream",
     "text": [
      "Using device: cuda:2\n"
     ]
    }
   ],
   "source": [
    "\n",
    "\n",
    "device = torch.device('cuda:2' if torch.cuda.is_available() else 'cpu')\n",
    "print('Using device:', device)\n",
    "model = SimpleViT(dim=512,device=device,dim_head=64,mlp_dim=512,frame_patch_size=4,image_patch_size=(8,8))\n",
    "model.load_state_dict(torch.load(\"/waldo/walban/student_datasets/arfranck/model_saves/epochs_50_lr_0.0001-12-06-2023-12:49:39.dict\"))\n",
    "loss_evol = []\n",
    "\n",
    "test_loss = []\n",
    "\n",
    "\n",
    "\n",
    "\n",
    "\n"
   ]
  },
  {
   "cell_type": "code",
   "execution_count": null,
   "metadata": {},
   "outputs": [],
   "source": []
  },
  {
   "cell_type": "code",
   "execution_count": null,
   "metadata": {},
   "outputs": [],
   "source": []
  },
  {
   "cell_type": "code",
   "execution_count": 26,
   "metadata": {
    "pycharm": {
     "name": "#%%\n"
    }
   },
   "outputs": [
    {
     "name": "stdout",
     "output_type": "stream",
     "text": [
      "opening track 0 from /waldo/walban/student_datasets/arfranck/SDD/scenes/deathCircle/video3/64_64_4\n",
      "opening track 1 from /waldo/walban/student_datasets/arfranck/SDD/scenes/deathCircle/video3/64_64_4\n",
      "opening track 2 from /waldo/walban/student_datasets/arfranck/SDD/scenes/deathCircle/video3/64_64_4\n",
      "opening track 3 from /waldo/walban/student_datasets/arfranck/SDD/scenes/deathCircle/video3/64_64_4\n",
      "opening track 4 from /waldo/walban/student_datasets/arfranck/SDD/scenes/deathCircle/video3/64_64_4\n",
      "opening track 5 from /waldo/walban/student_datasets/arfranck/SDD/scenes/deathCircle/video3/64_64_4\n",
      "opening track 6 from /waldo/walban/student_datasets/arfranck/SDD/scenes/deathCircle/video3/64_64_4\n",
      "opening track 7 from /waldo/walban/student_datasets/arfranck/SDD/scenes/deathCircle/video3/64_64_4\n",
      "opening track 8 from /waldo/walban/student_datasets/arfranck/SDD/scenes/deathCircle/video3/64_64_4\n",
      "opening track 9 from /waldo/walban/student_datasets/arfranck/SDD/scenes/deathCircle/video3/64_64_4\n",
      "opening track 10 from /waldo/walban/student_datasets/arfranck/SDD/scenes/deathCircle/video3/64_64_4\n",
      "opening track 11 from /waldo/walban/student_datasets/arfranck/SDD/scenes/deathCircle/video3/64_64_4\n",
      "opening track 12 from /waldo/walban/student_datasets/arfranck/SDD/scenes/deathCircle/video3/64_64_4\n",
      "opening track 13 from /waldo/walban/student_datasets/arfranck/SDD/scenes/deathCircle/video3/64_64_4\n",
      "opening track 14 from /waldo/walban/student_datasets/arfranck/SDD/scenes/deathCircle/video3/64_64_4\n",
      "opening track 15 from /waldo/walban/student_datasets/arfranck/SDD/scenes/deathCircle/video3/64_64_4\n",
      "opening track 16 from /waldo/walban/student_datasets/arfranck/SDD/scenes/deathCircle/video3/64_64_4\n",
      "opening track 17 from /waldo/walban/student_datasets/arfranck/SDD/scenes/deathCircle/video3/64_64_4\n",
      "opening track 18 from /waldo/walban/student_datasets/arfranck/SDD/scenes/deathCircle/video3/64_64_4\n",
      "opening track 19 from /waldo/walban/student_datasets/arfranck/SDD/scenes/deathCircle/video3/64_64_4\n"
     ]
    }
   ],
   "source": [
    "size = \"64_64_4\"\n",
    "#folders = [f\"bookstore/video0/\" for k in range(1)]\n",
    "#folders += [f\"coupa/video{k}/\" for k in range(4)]\n",
    "#folders += [f\"quad/video{k}/\" for k in range(1)]\n",
    "#folders += [f\"gates/video{k}/\" for k in range(9)]\n",
    "folders = [f\"deathCircle/video3/\" for k in range(1)]\n",
    "#folders += [f\"little/video{k}/\" for k in range(4)]\n",
    "#folders += [f\"nexus/video{k}/\" for k in range(10)]\n",
    "\n",
    "#folders = [\"hyang/video1/\"]\n",
    "\n",
    "n_trajs = [(0, 20) for k in range(len(folders))]\n",
    "data_folders = [\"/waldo/walban/student_datasets/arfranck/SDD/scenes/\" + folder + size for folder in folders]\n",
    "\n",
    "dataset = TrajDataset(data_folders, n_trajs=n_trajs, n_prev=8, n_next=8, img_step=30)\n",
    "train_data, validation_data, test_data = random_split(dataset, [0.9, 0.05, 0.05],generator=torch.Generator().manual_seed(42))\n",
    "\n",
    "\n"
   ]
  },
  {
   "cell_type": "code",
   "execution_count": 27,
   "metadata": {
    "pycharm": {
     "name": "#%%\n"
    }
   },
   "outputs": [],
   "source": [
    "batch_size = 1\n",
    "train_loader = DataLoader(train_data, batch_size=batch_size, shuffle=True)\n",
    "val_loader = DataLoader(validation_data, batch_size=batch_size, shuffle=True)\n",
    "test_loader = DataLoader(test_data, batch_size=batch_size, shuffle=True)\n",
    "criterion = MSELoss()\n"
   ]
  },
  {
   "cell_type": "code",
   "execution_count": 34,
   "metadata": {
    "pycharm": {
     "name": "#%%\n"
    },
    "scrolled": true
   },
   "outputs": [
    {
     "name": "stdout",
     "output_type": "stream",
     "text": [
      "Test Batch 0\n",
      "torch.Size([1, 8, 2])\n",
      "0.12431931495666504\n",
      "8\n"
     ]
    },
    {
     "data": {
      "image/png": "[encoded data removed]",
      "text/plain": [
       "<Figure size 640x480 with 1 Axes>"
      ]
     },
     "metadata": {},
     "output_type": "display_data"
    }
   ],
   "source": [
    "for id_b2, batch_test in enumerate(test_loader):\n",
    "\n",
    "\n",
    "    with torch.no_grad():\n",
    "        print(f\"Test Batch {id_b2}\")\n",
    "        model.eval()\n",
    "\n",
    "        X_test = batch_test[\"src\"]\n",
    "        Y_test = batch_test[\"tgt\"]\n",
    "\n",
    "\n",
    "        X_coords = batch_test[\"coords\"]\n",
    "\n",
    "        print(X_coords.shape)\n",
    "        future = None\n",
    "        \n",
    "        for k in range(8):\n",
    "            pred,output = model(X_test.to(device),future,train=False)\n",
    "            future = output\n",
    "\n",
    "\n",
    "        print(criterion(pred[0],Y_test[0].to(device)).item())\n",
    "        prev = [(k[0]*64,k[1]*64) for k in X_coords[0]]\n",
    "        points = [(k[0]*64,k[1]*64) for k in Y_test[0]]\n",
    "        points2 = [(k[0]*64,k[1]*64) for k in pred[0].cpu().detach().numpy()]\n",
    "\n",
    "        prev_x,prev_y = zip(*prev)\n",
    "        x,y = zip(*points)\n",
    "        x2,y2 = zip(*points2)\n",
    "        print(len(points))\n",
    "\n",
    "        plt.scatter([k for k in prev_x],[k for k in prev_y], label=\"Prev\")\n",
    "        plt.scatter([k for k in x],[k for k in y], label=\"Truth\")\n",
    "        plt.scatter([k for k in x2],[k for k in y2],label=\"Prediction\",color=([\"blue\" for k in range(7)] + [\"black\"]))\n",
    "        #plt.imread(\"reference.jpg\")\n",
    "        plt.legend()\n",
    "        plt.xlim(0,64)\n",
    "        plt.ylim(0,64)\n",
    "        #plt.imshow(plt.imread(\"reference.jpg\"))\n",
    "\n",
    "        plt.savefig(\"/waldo/walban/student_datasets/arfranck/SDD/plots/test_3.pdf\")\n",
    "        plt.show()\n",
    "        \n",
    "        \n",
    "        break\n",
    "        \n",
    "\n",
    "        \n",
    "        "
   ]
  }
 ],
 "metadata": {
  "kernelspec": {
   "display_name": "Python 3 (ipykernel)",
   "language": "python",
   "name": "python3"
  },
  "language_info": {
   "codemirror_mode": {
    "name": "ipython",
    "version": 3
   },
   "file_extension": ".py",
   "mimetype": "text/x-python",
   "name": "python",
   "nbconvert_exporter": "python",
   "pygments_lexer": "ipython3",
   "version": "3.10.6"
  }
 },
 "nbformat": 4,
 "nbformat_minor": 1
}
